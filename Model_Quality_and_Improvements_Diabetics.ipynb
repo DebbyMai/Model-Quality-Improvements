{
  "nbformat": 4,
  "nbformat_minor": 0,
  "metadata": {
    "colab": {
      "name": "Model Quality and Improvements:  Diabetics",
      "provenance": [],
      "collapsed_sections": [],
      "toc_visible": true
    },
    "kernelspec": {
      "display_name": "Python 3",
      "language": "python",
      "name": "python3"
    },
    "language_info": {
      "codemirror_mode": {
        "name": "ipython",
        "version": 3
      },
      "file_extension": ".py",
      "mimetype": "text/x-python",
      "name": "python",
      "nbconvert_exporter": "python",
      "pygments_lexer": "ipython3",
      "version": "3.7.4"
    }
  },
  "cells": [
    {
      "cell_type": "markdown",
      "metadata": {
        "id": "czJUgQ-6cA_p"
      },
      "source": [
        "#  AfterWork: Model Quality and Improvements:  Diabetics"
      ]
    },
    {
      "cell_type": "markdown",
      "metadata": {
        "id": "gLkzO7IdcA_r"
      },
      "source": [
        "## 1. Defining the Question"
      ]
    },
    {
      "cell_type": "markdown",
      "metadata": {
        "id": "JABkWE3JcA_s"
      },
      "source": [
        "### a) Specifying the Data Analysis Question"
      ]
    },
    {
      "cell_type": "markdown",
      "metadata": {
        "id": "1sGZ56H7cA_t"
      },
      "source": [
        "The task is to develop a model that predicts whether a patient will be diagnosed with diabetes or not \n"
      ]
    },
    {
      "cell_type": "markdown",
      "metadata": {
        "id": "8XxsPjnQcA_t"
      },
      "source": [
        "### b) Defining the Metric for Success"
      ]
    },
    {
      "cell_type": "markdown",
      "metadata": {
        "id": "100AFlNtcA_u"
      },
      "source": [
        "We will have accomplished our objective if our prediction is accurate in picking patients who are diagnosed"
      ]
    },
    {
      "cell_type": "markdown",
      "metadata": {
        "id": "SrzhnVvbcA_v"
      },
      "source": [
        "### c) Understanding the Context"
      ]
    },
    {
      "cell_type": "markdown",
      "metadata": {
        "id": "ehi1alkgcA_v"
      },
      "source": [
        "As a data professional working for a pharmaceutical company, you need to develop a\n",
        "model that predicts whether a patient will be diagnosed with diabetes.\n",
        "You will be required to document the following steps:\n",
        "1. Data Importation\n",
        "2.  Data Exploration\n",
        "3.  Data Cleaning\n",
        "4.  Data Preparation\n",
        "5.  Data Modeling (Using Decision Trees, Random Forest and Logistic Regression)\n",
        "6.  Model Evaluation\n",
        "7.  Hyparameter Tuning\n",
        "8.  Findings and Recommendations"
      ]
    },
    {
      "cell_type": "markdown",
      "metadata": {
        "id": "IV0fyMl_cA_w"
      },
      "source": [
        "### d) Recording the Experimental Design"
      ]
    },
    {
      "cell_type": "markdown",
      "metadata": {
        "id": "2-crdiQgcA_x"
      },
      "source": [
        "1. Load libraries and datasets.\n",
        "2. Prepare the data\n",
        "3. Analyze the data\n",
        "4. Machine learning modelling \n",
        "5. Predictions \n",
        "6. Conclusions and recommedation"
      ]
    },
    {
      "cell_type": "markdown",
      "metadata": {
        "id": "rz5Qg2aocA_x"
      },
      "source": [
        "### e) Data Relevance"
      ]
    },
    {
      "cell_type": "markdown",
      "metadata": {
        "id": "y3c-bdsRcA_y"
      },
      "source": [
        "The given data sets were relevant in answering the research question."
      ]
    },
    {
      "cell_type": "markdown",
      "metadata": {
        "id": "jefIDLCVcA_z"
      },
      "source": [
        "## 2. Data Cleaning & Analysis"
      ]
    },
    {
      "cell_type": "markdown",
      "metadata": {
        "id": "lik2LTbnah-x"
      },
      "source": [
        "###2.1.   Data cleaning & exploration"
      ]
    },
    {
      "cell_type": "code",
      "metadata": {
        "id": "jx0bMH04F0B5"
      },
      "source": [
        "# Loading the required libraries\n",
        "\n",
        "import pandas as pd\n",
        "import numpy as np\n",
        "import matplotlib.pyplot as plt\n",
        "import seaborn as sns\n",
        "\n",
        "# To preview all rows and columns\n",
        "pd.set_option('display.max_columns', None)\n",
        "pd.set_option('display.max_rows', None)"
      ],
      "execution_count": 156,
      "outputs": []
    },
    {
      "cell_type": "code",
      "metadata": {
        "id": "ZFt_VOxaIWQF"
      },
      "source": [
        "# Loading the dataset\n",
        "df=pd.read_csv('https://bit.ly/DiabetesDS')"
      ],
      "execution_count": 157,
      "outputs": []
    },
    {
      "cell_type": "code",
      "metadata": {
        "id": "xNcUO9TmGQY9",
        "colab": {
          "base_uri": "https://localhost:8080/",
          "height": 206
        },
        "outputId": "ecfb8791-bd14-4384-bd7b-a503f61ecb7a"
      },
      "source": [
        "# Previewing the first 5 records\n",
        "df.head()"
      ],
      "execution_count": 158,
      "outputs": [
        {
          "output_type": "execute_result",
          "data": {
            "text/html": [
              "<div>\n",
              "<style scoped>\n",
              "    .dataframe tbody tr th:only-of-type {\n",
              "        vertical-align: middle;\n",
              "    }\n",
              "\n",
              "    .dataframe tbody tr th {\n",
              "        vertical-align: top;\n",
              "    }\n",
              "\n",
              "    .dataframe thead th {\n",
              "        text-align: right;\n",
              "    }\n",
              "</style>\n",
              "<table border=\"1\" class=\"dataframe\">\n",
              "  <thead>\n",
              "    <tr style=\"text-align: right;\">\n",
              "      <th></th>\n",
              "      <th>Pregnancies</th>\n",
              "      <th>Glucose</th>\n",
              "      <th>BloodPressure</th>\n",
              "      <th>SkinThickness</th>\n",
              "      <th>Insulin</th>\n",
              "      <th>BMI</th>\n",
              "      <th>DiabetesPedigreeFunction</th>\n",
              "      <th>Age</th>\n",
              "      <th>Outcome</th>\n",
              "    </tr>\n",
              "  </thead>\n",
              "  <tbody>\n",
              "    <tr>\n",
              "      <th>0</th>\n",
              "      <td>6</td>\n",
              "      <td>148</td>\n",
              "      <td>72</td>\n",
              "      <td>35</td>\n",
              "      <td>0</td>\n",
              "      <td>33.6</td>\n",
              "      <td>0.627</td>\n",
              "      <td>50</td>\n",
              "      <td>1</td>\n",
              "    </tr>\n",
              "    <tr>\n",
              "      <th>1</th>\n",
              "      <td>1</td>\n",
              "      <td>85</td>\n",
              "      <td>66</td>\n",
              "      <td>29</td>\n",
              "      <td>0</td>\n",
              "      <td>26.6</td>\n",
              "      <td>0.351</td>\n",
              "      <td>31</td>\n",
              "      <td>0</td>\n",
              "    </tr>\n",
              "    <tr>\n",
              "      <th>2</th>\n",
              "      <td>8</td>\n",
              "      <td>183</td>\n",
              "      <td>64</td>\n",
              "      <td>0</td>\n",
              "      <td>0</td>\n",
              "      <td>23.3</td>\n",
              "      <td>0.672</td>\n",
              "      <td>32</td>\n",
              "      <td>1</td>\n",
              "    </tr>\n",
              "    <tr>\n",
              "      <th>3</th>\n",
              "      <td>1</td>\n",
              "      <td>89</td>\n",
              "      <td>66</td>\n",
              "      <td>23</td>\n",
              "      <td>94</td>\n",
              "      <td>28.1</td>\n",
              "      <td>0.167</td>\n",
              "      <td>21</td>\n",
              "      <td>0</td>\n",
              "    </tr>\n",
              "    <tr>\n",
              "      <th>4</th>\n",
              "      <td>0</td>\n",
              "      <td>137</td>\n",
              "      <td>40</td>\n",
              "      <td>35</td>\n",
              "      <td>168</td>\n",
              "      <td>43.1</td>\n",
              "      <td>2.288</td>\n",
              "      <td>33</td>\n",
              "      <td>1</td>\n",
              "    </tr>\n",
              "  </tbody>\n",
              "</table>\n",
              "</div>"
            ],
            "text/plain": [
              "   Pregnancies  Glucose  BloodPressure  SkinThickness  Insulin   BMI  \\\n",
              "0            6      148             72             35        0  33.6   \n",
              "1            1       85             66             29        0  26.6   \n",
              "2            8      183             64              0        0  23.3   \n",
              "3            1       89             66             23       94  28.1   \n",
              "4            0      137             40             35      168  43.1   \n",
              "\n",
              "   DiabetesPedigreeFunction  Age  Outcome  \n",
              "0                     0.627   50        1  \n",
              "1                     0.351   31        0  \n",
              "2                     0.672   32        1  \n",
              "3                     0.167   21        0  \n",
              "4                     2.288   33        1  "
            ]
          },
          "metadata": {},
          "execution_count": 158
        }
      ]
    },
    {
      "cell_type": "code",
      "metadata": {
        "colab": {
          "base_uri": "https://localhost:8080/",
          "height": 112
        },
        "id": "vCBB5qYWEAKY",
        "outputId": "f634dda1-9168-4440-b2ac-83b6a6f4ff55"
      },
      "source": [
        "#standardization of column names\n",
        "df.columns = df.columns.str.strip().str.lower().str.replace(')','').str.replace('?','')\n",
        "df.head(2)"
      ],
      "execution_count": 159,
      "outputs": [
        {
          "output_type": "execute_result",
          "data": {
            "text/html": [
              "<div>\n",
              "<style scoped>\n",
              "    .dataframe tbody tr th:only-of-type {\n",
              "        vertical-align: middle;\n",
              "    }\n",
              "\n",
              "    .dataframe tbody tr th {\n",
              "        vertical-align: top;\n",
              "    }\n",
              "\n",
              "    .dataframe thead th {\n",
              "        text-align: right;\n",
              "    }\n",
              "</style>\n",
              "<table border=\"1\" class=\"dataframe\">\n",
              "  <thead>\n",
              "    <tr style=\"text-align: right;\">\n",
              "      <th></th>\n",
              "      <th>pregnancies</th>\n",
              "      <th>glucose</th>\n",
              "      <th>bloodpressure</th>\n",
              "      <th>skinthickness</th>\n",
              "      <th>insulin</th>\n",
              "      <th>bmi</th>\n",
              "      <th>diabetespedigreefunction</th>\n",
              "      <th>age</th>\n",
              "      <th>outcome</th>\n",
              "    </tr>\n",
              "  </thead>\n",
              "  <tbody>\n",
              "    <tr>\n",
              "      <th>0</th>\n",
              "      <td>6</td>\n",
              "      <td>148</td>\n",
              "      <td>72</td>\n",
              "      <td>35</td>\n",
              "      <td>0</td>\n",
              "      <td>33.6</td>\n",
              "      <td>0.627</td>\n",
              "      <td>50</td>\n",
              "      <td>1</td>\n",
              "    </tr>\n",
              "    <tr>\n",
              "      <th>1</th>\n",
              "      <td>1</td>\n",
              "      <td>85</td>\n",
              "      <td>66</td>\n",
              "      <td>29</td>\n",
              "      <td>0</td>\n",
              "      <td>26.6</td>\n",
              "      <td>0.351</td>\n",
              "      <td>31</td>\n",
              "      <td>0</td>\n",
              "    </tr>\n",
              "  </tbody>\n",
              "</table>\n",
              "</div>"
            ],
            "text/plain": [
              "   pregnancies  glucose  bloodpressure  skinthickness  insulin   bmi  \\\n",
              "0            6      148             72             35        0  33.6   \n",
              "1            1       85             66             29        0  26.6   \n",
              "\n",
              "   diabetespedigreefunction  age  outcome  \n",
              "0                     0.627   50        1  \n",
              "1                     0.351   31        0  "
            ]
          },
          "metadata": {},
          "execution_count": 159
        }
      ]
    },
    {
      "cell_type": "code",
      "metadata": {
        "id": "Rtk-KKTPLmmd",
        "colab": {
          "base_uri": "https://localhost:8080/"
        },
        "outputId": "07981d09-1e7c-481a-a2f1-6c3ea58b365a"
      },
      "source": [
        "# Getting our dataset shape\n",
        "\n",
        "df.shape\n",
        "\n",
        "#dataframe has 768 rows and 9 columns"
      ],
      "execution_count": 160,
      "outputs": [
        {
          "output_type": "execute_result",
          "data": {
            "text/plain": [
              "(768, 9)"
            ]
          },
          "metadata": {},
          "execution_count": 160
        }
      ]
    },
    {
      "cell_type": "code",
      "metadata": {
        "id": "8lNBkI-OrR7C",
        "colab": {
          "base_uri": "https://localhost:8080/"
        },
        "outputId": "7524942b-e064-47a5-f4c3-0b95fb1e5648"
      },
      "source": [
        "# Looking for duplicates\n",
        "df.duplicated().sum()\n",
        "\n",
        "#there are no duplicate values "
      ],
      "execution_count": 161,
      "outputs": [
        {
          "output_type": "execute_result",
          "data": {
            "text/plain": [
              "0"
            ]
          },
          "metadata": {},
          "execution_count": 161
        }
      ]
    },
    {
      "cell_type": "code",
      "metadata": {
        "colab": {
          "base_uri": "https://localhost:8080/"
        },
        "id": "Xxztejv3Joyz",
        "outputId": "a2c09169-407d-4765-a57f-c593e076bc34"
      },
      "source": [
        "df.dtypes"
      ],
      "execution_count": 162,
      "outputs": [
        {
          "output_type": "execute_result",
          "data": {
            "text/plain": [
              "pregnancies                   int64\n",
              "glucose                       int64\n",
              "bloodpressure                 int64\n",
              "skinthickness                 int64\n",
              "insulin                       int64\n",
              "bmi                         float64\n",
              "diabetespedigreefunction    float64\n",
              "age                           int64\n",
              "outcome                       int64\n",
              "dtype: object"
            ]
          },
          "metadata": {},
          "execution_count": 162
        }
      ]
    },
    {
      "cell_type": "code",
      "metadata": {
        "id": "6uuZbJSPz79W",
        "colab": {
          "base_uri": "https://localhost:8080/"
        },
        "outputId": "5c018066-5118-49dd-d94a-c41110d6d449"
      },
      "source": [
        "# Looking for null values \n",
        "\n",
        "df.isnull().sum()\n",
        "\n",
        "#there are no missing values "
      ],
      "execution_count": 163,
      "outputs": [
        {
          "output_type": "execute_result",
          "data": {
            "text/plain": [
              "pregnancies                 0\n",
              "glucose                     0\n",
              "bloodpressure               0\n",
              "skinthickness               0\n",
              "insulin                     0\n",
              "bmi                         0\n",
              "diabetespedigreefunction    0\n",
              "age                         0\n",
              "outcome                     0\n",
              "dtype: int64"
            ]
          },
          "metadata": {},
          "execution_count": 163
        }
      ]
    },
    {
      "cell_type": "markdown",
      "metadata": {
        "id": "NQTTZBxbjvB2"
      },
      "source": [
        "### 2.2. Machine Learning"
      ]
    },
    {
      "cell_type": "markdown",
      "metadata": {
        "id": "Eq-Uzo0KwcrG"
      },
      "source": [
        "#### 2.2.1 Data Modelling"
      ]
    },
    {
      "cell_type": "code",
      "metadata": {
        "colab": {
          "base_uri": "https://localhost:8080/"
        },
        "id": "AdAlvzTPqgtu",
        "outputId": "40cb3345-af76-4af0-8d7b-69a7aa69c8c3"
      },
      "source": [
        "#preparing data \n",
        "x = df.drop(['outcome'], axis = 1)\n",
        "y = df['outcome']  \n",
        "\n",
        "#spliting the dataset (ratio 3:1)\n",
        "from sklearn.model_selection import train_test_split\n",
        "X_train, X_test, y_train, y_test = train_test_split(x, y, test_size = 0.25, random_state = 0)\n",
        "\n",
        "#confirm size of datasets\n",
        "print(df.shape)\n",
        "print(X_train.shape)\n",
        "print(X_test.shape)\n",
        "print(y_train.shape)\n",
        "print(y_test.shape)"
      ],
      "execution_count": 164,
      "outputs": [
        {
          "output_type": "stream",
          "name": "stdout",
          "text": [
            "(768, 9)\n",
            "(576, 8)\n",
            "(192, 8)\n",
            "(576,)\n",
            "(192,)\n"
          ]
        }
      ]
    },
    {
      "cell_type": "code",
      "metadata": {
        "colab": {
          "base_uri": "https://localhost:8080/"
        },
        "id": "L2Q9cemmDD2T",
        "outputId": "09344090-6bff-4d6b-a166-663f9a5b41df"
      },
      "source": [
        "#Decision Tree Classifer\n",
        "#import decision tree from sklearn library\n",
        "from sklearn.tree import DecisionTreeClassifier\n",
        "\n",
        "#create a model and assign it to a variable \n",
        "dec_model = DecisionTreeClassifier(random_state=12345, max_depth=5)\n",
        "\n",
        "#train a model by calling the fit() method \n",
        "dec_model.fit(X_train,y_train)\n",
        "\n",
        "#predict answers \n",
        "dec_y_pred = dec_model.predict(X_test) \n",
        "\n",
        "#Model Evaluation\n",
        "#evaluation metric in sklearn library\n",
        "from sklearn.metrics import accuracy_score \n",
        "\n",
        "#Classifier report\n",
        "from sklearn.metrics import classification_report \n",
        "print('Decision Tree classifier:')\n",
        "print(classification_report(y_test, dec_y_pred)) #0.78\n"
      ],
      "execution_count": 165,
      "outputs": [
        {
          "output_type": "stream",
          "name": "stdout",
          "text": [
            "Decision Tree classifier:\n",
            "              precision    recall  f1-score   support\n",
            "\n",
            "           0       0.80      0.88      0.84       130\n",
            "           1       0.69      0.55      0.61        62\n",
            "\n",
            "    accuracy                           0.78       192\n",
            "   macro avg       0.75      0.72      0.73       192\n",
            "weighted avg       0.77      0.78      0.77       192\n",
            "\n"
          ]
        }
      ]
    },
    {
      "cell_type": "code",
      "metadata": {
        "colab": {
          "base_uri": "https://localhost:8080/"
        },
        "id": "sAHrn-1QkQUP",
        "outputId": "975e5c42-1ca0-4a9d-ea2b-e433eb72729e"
      },
      "source": [
        "#Decision Tree Classifer :- Tuning Hyperparameters\n",
        "\n",
        "for depth in range (1,20):\n",
        "  model = DecisionTreeClassifier(max_depth=depth)\n",
        "  #training the model\n",
        "  model.fit(X_train,y_train)\n",
        "  #find predictions using validation set \n",
        "  dec_y_pred=model.predict(X_test)\n",
        "\n",
        "  print(\"max_depth =\", depth, \": \", end =' ')\n",
        "  print(accuracy_score(dec_y_pred, y_test))\n",
        "\n",
        "#max_depth 5 is the most approriate since it has highest accuracy"
      ],
      "execution_count": 166,
      "outputs": [
        {
          "output_type": "stream",
          "name": "stdout",
          "text": [
            "max_depth = 1 :  0.75\n",
            "max_depth = 2 :  0.75\n",
            "max_depth = 3 :  0.734375\n",
            "max_depth = 4 :  0.7447916666666666\n",
            "max_depth = 5 :  0.7760416666666666\n",
            "max_depth = 6 :  0.7395833333333334\n",
            "max_depth = 7 :  0.7760416666666666\n",
            "max_depth = 8 :  0.7864583333333334\n",
            "max_depth = 9 :  0.7864583333333334\n",
            "max_depth = 10 :  0.7604166666666666\n",
            "max_depth = 11 :  0.7395833333333334\n",
            "max_depth = 12 :  0.703125\n",
            "max_depth = 13 :  0.71875\n",
            "max_depth = 14 :  0.7135416666666666\n",
            "max_depth = 15 :  0.703125\n",
            "max_depth = 16 :  0.7395833333333334\n",
            "max_depth = 17 :  0.7239583333333334\n",
            "max_depth = 18 :  0.7135416666666666\n",
            "max_depth = 19 :  0.7447916666666666\n"
          ]
        }
      ]
    },
    {
      "cell_type": "code",
      "metadata": {
        "colab": {
          "base_uri": "https://localhost:8080/"
        },
        "id": "QQrBCoF92PfD",
        "outputId": "76f3b07c-eb61-4e55-c1c9-f22760fa84ce"
      },
      "source": [
        "#Random Forest Classifer\n",
        "#import decision tree from sklearn library\n",
        "from sklearn.ensemble import RandomForestClassifier\n",
        "\n",
        "#create a model and assign it to a variable \n",
        "Forest_model = RandomForestClassifier(random_state=42, max_depth=6,max_features=5,n_jobs=-1, \n",
        "                                      min_samples_split=5,bootstrap = True,n_estimators = 459)\n",
        "\n",
        "\n",
        "#train a model by calling the fit() method \n",
        "Forest_model.fit(X_train,y_train)\n",
        "\n",
        "#predict answers \n",
        "forest_y_pred = Forest_model.predict(X_test) \n",
        "\n",
        "#Model Evaluation\n",
        "#evaluation metric in sklearn library\n",
        "from sklearn.metrics import accuracy_score \n",
        "\n",
        "#Classifier report\n",
        "from sklearn.metrics import classification_report \n",
        "print('Random Forest classifier:')\n",
        "print(classification_report(y_test, forest_y_pred)) #0.79"
      ],
      "execution_count": 167,
      "outputs": [
        {
          "output_type": "stream",
          "name": "stdout",
          "text": [
            "Random Forest classifier:\n",
            "              precision    recall  f1-score   support\n",
            "\n",
            "           0       0.81      0.90      0.85       130\n",
            "           1       0.73      0.56      0.64        62\n",
            "\n",
            "    accuracy                           0.79       192\n",
            "   macro avg       0.77      0.73      0.75       192\n",
            "weighted avg       0.79      0.79      0.78       192\n",
            "\n"
          ]
        }
      ]
    },
    {
      "cell_type": "code",
      "metadata": {
        "colab": {
          "base_uri": "https://localhost:8080/"
        },
        "id": "_lYStM0BA0vN",
        "outputId": "c9bfc6c5-915f-4f7e-f418-4c3d2e3bc572"
      },
      "source": [
        "#Tuning hyperparameter\n",
        "for depth in range (1,10):\n",
        "  Forest_model = RandomForestClassifier(max_depth=depth)\n",
        "  #training the model\n",
        "  Forest_model.fit(X_train,y_train)\n",
        "  #find predictions using validation set \n",
        "  forest_y_pred=Forest_model.predict(X_test)\n",
        "\n",
        "  print(\"max_depth =\", depth, \": \", end =' ')\n",
        "  print(accuracy_score(forest_y_pred, y_test))"
      ],
      "execution_count": 168,
      "outputs": [
        {
          "output_type": "stream",
          "name": "stdout",
          "text": [
            "max_depth = 1 :  0.7135416666666666\n",
            "max_depth = 2 :  0.7552083333333334\n",
            "max_depth = 3 :  0.7760416666666666\n",
            "max_depth = 4 :  0.7760416666666666\n",
            "max_depth = 5 :  0.7864583333333334\n",
            "max_depth = 6 :  0.796875\n",
            "max_depth = 7 :  0.796875\n",
            "max_depth = 8 :  0.7916666666666666\n",
            "max_depth = 9 :  0.78125\n"
          ]
        }
      ]
    },
    {
      "cell_type": "code",
      "metadata": {
        "colab": {
          "base_uri": "https://localhost:8080/"
        },
        "id": "WQY-NKhRB4Nu",
        "outputId": "ffe00c64-93b9-40d3-c9c6-7c7888e9a1b2"
      },
      "source": [
        "for job in range (1,10):\n",
        "  Forest_model = RandomForestClassifier(n_jobs=job)\n",
        "  #training the model\n",
        "  Forest_model.fit(X_train,y_train)\n",
        "  #find predictions using validation set \n",
        "  forest_y_pred=Forest_model.predict(X_test)\n",
        "\n",
        "  print(\"n_jobs =\", job, \": \", end =' ')\n",
        "  print(accuracy_score(forest_y_pred, y_test))"
      ],
      "execution_count": 169,
      "outputs": [
        {
          "output_type": "stream",
          "name": "stdout",
          "text": [
            "n_jobs = 1 :  0.7864583333333334\n",
            "n_jobs = 2 :  0.78125\n",
            "n_jobs = 3 :  0.7864583333333334\n",
            "n_jobs = 4 :  0.78125\n",
            "n_jobs = 5 :  0.796875\n",
            "n_jobs = 6 :  0.7916666666666666\n",
            "n_jobs = 7 :  0.7708333333333334\n",
            "n_jobs = 8 :  0.7864583333333334\n",
            "n_jobs = 9 :  0.78125\n"
          ]
        }
      ]
    },
    {
      "cell_type": "code",
      "metadata": {
        "colab": {
          "base_uri": "https://localhost:8080/"
        },
        "id": "VxLaSP4gE4ip",
        "outputId": "0a14eed9-dae8-4d41-f526-573b4bd48b23"
      },
      "source": [
        "from sklearn.ensemble import RandomForestRegressor \n",
        "rf = RandomForestRegressor(random_state=42, n_jobs=-1)\n",
        "from sklearn.model_selection import RandomizedSearchCV\n",
        "from scipy.stats import randint as sp_randint\n",
        "\n",
        "#code to create the parameter distribution.\n",
        "\n",
        "# specify parameters and distributions to sample from\n",
        "param_dist = {\"max_depth\": [3, None],\n",
        "              \"max_features\": sp_randint(1, X_train.shape[1]),\n",
        "              \"min_samples_split\": sp_randint(2, 11),\n",
        "              \"bootstrap\": [True, False],\n",
        "              \"n_estimators\": sp_randint(100, 500)}\n",
        "\n",
        "random_search = RandomizedSearchCV(rf, param_distributions=param_dist,\n",
        "                                   n_iter=10, cv=5, iid=False, random_state=42)\n",
        "random_search.fit(X_train,y_train)   \n",
        "\n",
        "print(random_search.best_params_)"
      ],
      "execution_count": 170,
      "outputs": [
        {
          "output_type": "stream",
          "name": "stderr",
          "text": [
            "/usr/local/lib/python3.7/dist-packages/sklearn/model_selection/_search.py:823: FutureWarning: The parameter 'iid' is deprecated in 0.22 and will be removed in 0.24.\n",
            "  \"removed in 0.24.\", FutureWarning\n"
          ]
        },
        {
          "output_type": "stream",
          "name": "stdout",
          "text": [
            "{'bootstrap': True, 'max_depth': 3, 'max_features': 5, 'min_samples_split': 5, 'n_estimators': 459}\n"
          ]
        }
      ]
    },
    {
      "cell_type": "code",
      "metadata": {
        "colab": {
          "base_uri": "https://localhost:8080/"
        },
        "id": "Os5XcMlgWNB2",
        "outputId": "4e650bde-4c72-42ac-9985-30453da25b9d"
      },
      "source": [
        "#Logistic Regression Classifer\n",
        "#import decision tree from sklearn library\n",
        "from sklearn.linear_model import LogisticRegression\n",
        "\n",
        "#create a model and assign it to a variable \n",
        "LogisticRegression_model = LogisticRegression(random_state=12345, solver='liblinear', \n",
        "                                              C=1.0)\n",
        "\n",
        "#train a model by calling the fit() method \n",
        "LogisticRegression_model.fit(X_train,y_train)\n",
        "\n",
        "#predict answers \n",
        "logistic_y_pred = LogisticRegression_model.predict(X_test) \n",
        "\n",
        "#Model Evaluation\n",
        "#evaluation metric in sklearn library\n",
        "from sklearn.metrics import accuracy_score \n",
        "\n",
        "#Classifier report\n",
        "from sklearn.metrics import classification_report \n",
        "print('Logistic Regression classifier:')\n",
        "print(classification_report(y_test, logistic_y_pred)) #0.81"
      ],
      "execution_count": 171,
      "outputs": [
        {
          "output_type": "stream",
          "name": "stdout",
          "text": [
            "Logistic Regression classifier:\n",
            "              precision    recall  f1-score   support\n",
            "\n",
            "           0       0.82      0.92      0.87       130\n",
            "           1       0.77      0.58      0.66        62\n",
            "\n",
            "    accuracy                           0.81       192\n",
            "   macro avg       0.79      0.75      0.76       192\n",
            "weighted avg       0.80      0.81      0.80       192\n",
            "\n"
          ]
        }
      ]
    },
    {
      "cell_type": "markdown",
      "metadata": {
        "id": "KD2a1jeccBEv"
      },
      "source": [
        "## 3. Summary of Findings and Recommedations"
      ]
    },
    {
      "cell_type": "markdown",
      "metadata": {
        "id": "hZn1-mFnKDp8"
      },
      "source": [
        "Findings:\n",
        "\n",
        "The task is to develop a\n",
        "model that predicts whether a patient will be diagnosed with diabetes. The model to be used will be logistic regression since it has the highest accuracy and has the fastest speed "
      ]
    }
  ]
}